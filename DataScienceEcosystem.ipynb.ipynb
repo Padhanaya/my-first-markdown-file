{
 "cells": [
  {
   "cell_type": "markdown",
   "id": "01a4d67e-eaaf-4fd7-97e4-ed90c0af704a",
   "metadata": {},
   "source": [
    "# Data Science Tools and Ecosystem"
   ]
  },
  {
   "cell_type": "markdown",
   "id": "a923a0a6-73a8-4963-8079-73a76ba3fdbf",
   "metadata": {},
   "source": [
    "## In this notebook, Data Science Tools and Ecosystem are summarized."
   ]
  },
  {
   "cell_type": "markdown",
   "id": "cc20f5aa-cea8-42a5-bab8-b7576149f143",
   "metadata": {},
   "source": [
    "##  ***Objectives***\n",
    "+ R\n",
    "+ Python\n",
    "+ SQL\n",
    "+ Java\n",
    "+ C++"
   ]
  },
  {
   "cell_type": "markdown",
   "id": "8aa51ca7-ff3c-44c2-991e-8df1e7631422",
   "metadata": {},
   "source": [
    "### Some of the popular languages that Data Scientists use are:\n",
    "1. python\n",
    "2. r\n",
    "3. java"
   ]
  },
  {
   "cell_type": "markdown",
   "id": "8ec310eb-9d92-40d7-b1e6-2d3284c6bb20",
   "metadata": {},
   "source": [
    "### Some of the commonly used libraries used by Data Scientists include:\n",
    "1. jupyter\n",
    "2. Anaconda navigator\n",
    "3. watson studio\n",
    "4. r studio"
   ]
  },
  {
   "cell_type": "markdown",
   "id": "6b0c1b59-a960-4653-8865-050a4159bb3a",
   "metadata": {},
   "source": [
    "## Data science tools\n",
    "|Data Science Tools|\n",
    "|--------------|\n",
    "| Power BI |\n",
    "| Tableau |\n",
    "|   R   |\n",
    "\n"
   ]
  },
  {
   "cell_type": "markdown",
   "id": "937f6912-d4ad-42cf-926a-075e6be4e891",
   "metadata": {},
   "source": [
    "### Below are a few examples of evaluating arithmetic expressions in Python\n",
    "2+4 = 6, 2*4 = 8 "
   ]
  },
  {
   "cell_type": "code",
   "execution_count": 3,
   "id": "77f1f0a8-eecd-470d-b7be-2f2e4883dc2e",
   "metadata": {},
   "outputs": [
    {
     "data": {
      "text/plain": [
       "17"
      ]
     },
     "execution_count": 3,
     "metadata": {},
     "output_type": "execute_result"
    }
   ],
   "source": [
    "# This a simple arithmetic expression to mutiply then add integers\n",
    "(3*4)+5"
   ]
  },
  {
   "cell_type": "code",
   "execution_count": 4,
   "id": "c5392862-3c8a-4281-aa30-65d58d96b252",
   "metadata": {},
   "outputs": [
    {
     "data": {
      "text/plain": [
       "3.3333333333333335"
      ]
     },
     "execution_count": 4,
     "metadata": {},
     "output_type": "execute_result"
    }
   ],
   "source": [
    "# This will convert 200 minutes to hours by diving by 60\n",
    "200/60"
   ]
  },
  {
   "cell_type": "markdown",
   "id": "42df6fa6-0095-4632-bf28-ace9ec6bcc21",
   "metadata": {},
   "source": [
    "## Author\n",
    "Sachin Kumar Yadav"
   ]
  },
  {
   "cell_type": "code",
   "execution_count": null,
   "id": "d7e3c50b-e730-4b8a-9875-82180b82e597",
   "metadata": {},
   "outputs": [],
   "source": []
  }
 ],
 "metadata": {
  "kernelspec": {
   "display_name": "Python 3 (ipykernel)",
   "language": "python",
   "name": "python3"
  },
  "language_info": {
   "codemirror_mode": {
    "name": "ipython",
    "version": 3
   },
   "file_extension": ".py",
   "mimetype": "text/x-python",
   "name": "python",
   "nbconvert_exporter": "python",
   "pygments_lexer": "ipython3",
   "version": "3.12.8"
  }
 },
 "nbformat": 4,
 "nbformat_minor": 5
}
